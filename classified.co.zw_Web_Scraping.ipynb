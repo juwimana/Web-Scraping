{
 "cells": [
  {
   "cell_type": "code",
   "execution_count": 16,
   "metadata": {},
   "outputs": [],
   "source": [
    "import requests\n",
    "from bs4 import BeautifulSoup as bs\n",
    "import json\n",
    "import pandas as pd\n",
    "import numpy as np"
   ]
  },
  {
   "cell_type": "code",
   "execution_count": 17,
   "metadata": {},
   "outputs": [],
   "source": [
    "#website link\n",
    "link = 'https://www.classifieds.co.zw/en/advert?page='"
   ]
  },
  {
   "cell_type": "code",
   "execution_count": 40,
   "metadata": {},
   "outputs": [],
   "source": [
    "#define function to get get html page\n",
    "def get_html(link):\n",
    "    page = 1\n",
    "    i = 0\n",
    "    data = []\n",
    "    while i < 101:\n",
    "        url = link + str(page)\n",
    "        response = requests.get(url)\n",
    "        html = response.content\n",
    "        data.append(bs(html,'html.parser'))\n",
    "        page = page + 1\n",
    "        i = i + 1\n",
    "        \n",
    "    return data"
   ]
  },
  {
   "cell_type": "code",
   "execution_count": 41,
   "metadata": {},
   "outputs": [],
   "source": [
    "#define function to get all the items in data array and store in a dataframe\n",
    "def get_data(link):\n",
    "    #get html\n",
    "    i = 0\n",
    "    arr_data = get_html(link)\n",
    "    arr_df = []\n",
    "    #print(arr_data)\n",
    "    while i < len(arr_data):\n",
    "        items = arr_data[i].find_all('div',class_='listing')\n",
    "        #store in a dataframe\n",
    "        df_info = pd.DataFrame()\n",
    "        item_info = dict()\n",
    "        for item in items:\n",
    "            item_info = json.loads(item['data-advert'])\n",
    "            df_info = df_info.append(item_info,ignore_index =True)\n",
    "            arr_df.append(df_info) \n",
    "        i= i+1\n",
    "            \n",
    "    return arr_df"
   ]
  },
  {
   "cell_type": "code",
   "execution_count": null,
   "metadata": {},
   "outputs": [],
   "source": [
    "df = pd.concat(get_data(link))\n",
    "df"
   ]
  },
  {
   "cell_type": "code",
   "execution_count": null,
   "metadata": {},
   "outputs": [],
   "source": [
    "#save file in excel\n",
    "df.to_excel('classified_100.xlsx')"
   ]
  }
 ],
 "metadata": {
  "kernelspec": {
   "display_name": "Python 3",
   "language": "python",
   "name": "python3"
  },
  "language_info": {
   "codemirror_mode": {
    "name": "ipython",
    "version": 3
   },
   "file_extension": ".py",
   "mimetype": "text/x-python",
   "name": "python",
   "nbconvert_exporter": "python",
   "pygments_lexer": "ipython3",
   "version": "3.8.3"
  }
 },
 "nbformat": 4,
 "nbformat_minor": 4
}
