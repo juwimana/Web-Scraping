{
 "cells": [
  {
   "cell_type": "code",
   "execution_count": 3,
   "metadata": {},
   "outputs": [],
   "source": [
    "import requests\n",
    "\n",
    "#import urlib3\n",
    "from bs4 import BeautifulSoup as bs\n",
    "\n",
    "import pandas as pd\n",
    "import numpy as np\n",
    "import time"
   ]
  },
  {
   "cell_type": "code",
   "execution_count": 5,
   "metadata": {},
   "outputs": [
    {
     "name": "stdout",
     "output_type": "stream",
     "text": [
      "6\n"
     ]
    }
   ],
   "source": [
    "link = 'https://clutch.co/ca/it-services/analytics?page='\n",
    "page = 0\n",
    "i = 0\n",
    "soups = []\n",
    "while i < 6:\n",
    "    url = link + str(page)\n",
    "    response = requests.get(url)\n",
    "    html = response.content\n",
    "    soups.append(bs(html,'html.parser'))\n",
    "    page = page + 1\n",
    "    i = i + 1\n",
    "    time.sleep(2)\n",
    "\n",
    "print(len(soups))"
   ]
  },
  {
   "cell_type": "code",
   "execution_count": 18,
   "metadata": {},
   "outputs": [
    {
     "name": "stdout",
     "output_type": "stream",
     "text": [
      "101\n"
     ]
    }
   ],
   "source": [
    "#get company names\n",
    "names = []\n",
    "for soup in soups:\n",
    "    list_names = soup.find_all('h3',class_='company-name')\n",
    "    for list_name in list_names:\n",
    "        name = list_name.find_all('a')\n",
    "        for c_name in name:\n",
    "            names.append(c_name.text)\n",
    "print(len(names))"
   ]
  },
  {
   "cell_type": "code",
   "execution_count": 46,
   "metadata": {},
   "outputs": [
    {
     "name": "stdout",
     "output_type": "stream",
     "text": [
      "101\n"
     ]
    }
   ],
   "source": [
    "company_info = []\n",
    "company_c = []\n",
    "for soup in soups:\n",
    "    info = soup.find_all('div',class_='module-list')\n",
    "    for c_info in info:\n",
    "        cc = c_info.find_all('div')\n",
    "        for c in cc:\n",
    "            company_c.append(c.text.replace(u'\\n', u' '))\n",
    "\n",
    "while len(company_c)>4:\n",
    "    temp = company_c[:4]\n",
    "    company_info.append(temp)\n",
    "    company_c = company_c[4:]\n",
    "company_info.append(company_c)\n",
    "\n",
    "print(len(company_info))"
   ]
  },
  {
   "cell_type": "code",
   "execution_count": 62,
   "metadata": {},
   "outputs": [
    {
     "name": "stdout",
     "output_type": "stream",
     "text": [
      "101 101 101 101 101\n"
     ]
    }
   ],
   "source": [
    "#get pay\n",
    "min_project_size = []\n",
    "avg_hourly_rate = []\n",
    "employees = []\n",
    "city = []\n",
    "region = []\n",
    "for company in company_info:\n",
    "    #print(company)\n",
    "    min_project_size.append(company[0])\n",
    "    avg_hourly_rate.append(company[1])\n",
    "    employees.append(company[2])\n",
    "    city.append(company[3].split(',')[0])\n",
    "    region.append(company[3].split(',')[1])\n",
    "print(len(min_project_size),len(avg_hourly_rate),len(employees),len(city_s),len(region_s))"
   ]
  },
  {
   "cell_type": "code",
   "execution_count": 63,
   "metadata": {},
   "outputs": [
    {
     "name": "stdout",
     "output_type": "stream",
     "text": [
      "101\n"
     ]
    }
   ],
   "source": [
    "#find company link\n",
    "urls = []\n",
    "for soup in soups:\n",
    "    link = soup.find_all('li', class_='website-link website-link-a')\n",
    "    for url in link:\n",
    "        urls.append(url.a['href'])\n",
    "        \n",
    "print(len(urls))"
   ]
  },
  {
   "cell_type": "code",
   "execution_count": 64,
   "metadata": {},
   "outputs": [
    {
     "data": {
      "text/html": [
       "<div>\n",
       "<style scoped>\n",
       "    .dataframe tbody tr th:only-of-type {\n",
       "        vertical-align: middle;\n",
       "    }\n",
       "\n",
       "    .dataframe tbody tr th {\n",
       "        vertical-align: top;\n",
       "    }\n",
       "\n",
       "    .dataframe thead th {\n",
       "        text-align: right;\n",
       "    }\n",
       "</style>\n",
       "<table border=\"1\" class=\"dataframe\">\n",
       "  <thead>\n",
       "    <tr style=\"text-align: right;\">\n",
       "      <th></th>\n",
       "      <th>Name</th>\n",
       "      <th>Minimum Project Size</th>\n",
       "      <th>Average Hourly Rate</th>\n",
       "      <th>Number of Employees</th>\n",
       "      <th>City</th>\n",
       "      <th>Region</th>\n",
       "    </tr>\n",
       "  </thead>\n",
       "  <tbody>\n",
       "    <tr>\n",
       "      <th>0</th>\n",
       "      <td>ConversionAdvocates</td>\n",
       "      <td>$10,000+</td>\n",
       "      <td>Undisclosed</td>\n",
       "      <td>10 - 49</td>\n",
       "      <td>Montreal</td>\n",
       "      <td>Canada</td>\n",
       "    </tr>\n",
       "    <tr>\n",
       "      <th>1</th>\n",
       "      <td>Synergo Group</td>\n",
       "      <td>$5,000+</td>\n",
       "      <td>$50 - $99 / hr</td>\n",
       "      <td>10 - 49</td>\n",
       "      <td>Toronto</td>\n",
       "      <td>Canada</td>\n",
       "    </tr>\n",
       "    <tr>\n",
       "      <th>2</th>\n",
       "      <td>Denologix</td>\n",
       "      <td>$10,000+</td>\n",
       "      <td>$150 - $199 / hr</td>\n",
       "      <td>50 - 249</td>\n",
       "      <td>Toronto</td>\n",
       "      <td>Canada</td>\n",
       "    </tr>\n",
       "    <tr>\n",
       "      <th>3</th>\n",
       "      <td>Keyrus</td>\n",
       "      <td>$25,000+</td>\n",
       "      <td>$150 - $199 / hr</td>\n",
       "      <td>1,000 - 9,999</td>\n",
       "      <td>Toronto</td>\n",
       "      <td>Canada</td>\n",
       "    </tr>\n",
       "    <tr>\n",
       "      <th>4</th>\n",
       "      <td>Pontem Innovations</td>\n",
       "      <td>$1,000+</td>\n",
       "      <td>$100 - $149 / hr</td>\n",
       "      <td>2 - 9</td>\n",
       "      <td>Edmonton</td>\n",
       "      <td>Canada</td>\n",
       "    </tr>\n",
       "    <tr>\n",
       "      <th>...</th>\n",
       "      <td>...</td>\n",
       "      <td>...</td>\n",
       "      <td>...</td>\n",
       "      <td>...</td>\n",
       "      <td>...</td>\n",
       "      <td>...</td>\n",
       "    </tr>\n",
       "    <tr>\n",
       "      <th>96</th>\n",
       "      <td>ELITEC Consulting</td>\n",
       "      <td>$1,000+</td>\n",
       "      <td>$50 - $99 / hr</td>\n",
       "      <td>Freelancer</td>\n",
       "      <td>Toronto</td>\n",
       "      <td>Canada</td>\n",
       "    </tr>\n",
       "    <tr>\n",
       "      <th>97</th>\n",
       "      <td>Punchcard Systems</td>\n",
       "      <td>Undisclosed</td>\n",
       "      <td>Undisclosed</td>\n",
       "      <td>10 - 49</td>\n",
       "      <td>Edmonton</td>\n",
       "      <td>Canada</td>\n",
       "    </tr>\n",
       "    <tr>\n",
       "      <th>98</th>\n",
       "      <td>Interwerk</td>\n",
       "      <td>$5,000+</td>\n",
       "      <td>$100 - $149 / hr</td>\n",
       "      <td>2 - 9</td>\n",
       "      <td>Toronto</td>\n",
       "      <td>Canada</td>\n",
       "    </tr>\n",
       "    <tr>\n",
       "      <th>99</th>\n",
       "      <td>Manta Innovations Ltd</td>\n",
       "      <td>$5,000+</td>\n",
       "      <td>$100 - $149 / hr</td>\n",
       "      <td>2 - 9</td>\n",
       "      <td>Vancouver</td>\n",
       "      <td>Canada</td>\n",
       "    </tr>\n",
       "    <tr>\n",
       "      <th>100</th>\n",
       "      <td>Stackfee</td>\n",
       "      <td>$1,000+</td>\n",
       "      <td>$50 - $99 / hr</td>\n",
       "      <td>2 - 9</td>\n",
       "      <td>Pointe-Claire</td>\n",
       "      <td>Canada</td>\n",
       "    </tr>\n",
       "  </tbody>\n",
       "</table>\n",
       "<p>101 rows × 6 columns</p>\n",
       "</div>"
      ],
      "text/plain": [
       "                      Name Minimum Project Size Average Hourly Rate  \\\n",
       "0      ConversionAdvocates            $10,000+         Undisclosed    \n",
       "1            Synergo Group             $5,000+      $50 - $99 / hr    \n",
       "2                Denologix            $10,000+    $150 - $199 / hr    \n",
       "3                   Keyrus            $25,000+    $150 - $199 / hr    \n",
       "4       Pontem Innovations             $1,000+    $100 - $149 / hr    \n",
       "..                     ...                  ...                 ...   \n",
       "96       ELITEC Consulting             $1,000+      $50 - $99 / hr    \n",
       "97       Punchcard Systems          Undisclosed        Undisclosed    \n",
       "98               Interwerk             $5,000+    $100 - $149 / hr    \n",
       "99   Manta Innovations Ltd             $5,000+    $100 - $149 / hr    \n",
       "100               Stackfee             $1,000+      $50 - $99 / hr    \n",
       "\n",
       "    Number of Employees           City   Region  \n",
       "0               10 - 49       Montreal   Canada  \n",
       "1               10 - 49        Toronto   Canada  \n",
       "2              50 - 249        Toronto   Canada  \n",
       "3         1,000 - 9,999        Toronto   Canada  \n",
       "4                 2 - 9       Edmonton   Canada  \n",
       "..                  ...            ...      ...  \n",
       "96           Freelancer        Toronto   Canada  \n",
       "97              10 - 49       Edmonton   Canada  \n",
       "98                2 - 9        Toronto   Canada  \n",
       "99                2 - 9      Vancouver   Canada  \n",
       "100               2 - 9  Pointe-Claire   Canada  \n",
       "\n",
       "[101 rows x 6 columns]"
      ]
     },
     "execution_count": 64,
     "metadata": {},
     "output_type": "execute_result"
    }
   ],
   "source": [
    "companies = np.vstack([names,min_project_size,avg_hourly_rate,employees,city,region]).T\n",
    "columns = ['Name','Minimum Project Size','Average Hourly Rate','Number of Employees','City','Region']\n",
    "df = pd.DataFrame(data = companies, columns= columns)\n",
    "# df = pd.concat(get_data(link))\n",
    "df"
   ]
  },
  {
   "cell_type": "code",
   "execution_count": 65,
   "metadata": {},
   "outputs": [],
   "source": [
    "#save file in excel\n",
    "df.to_excel('Top Canada Business Intelligence Consultants.xlsx',sheet_name='Company')"
   ]
  }
 ],
 "metadata": {
  "kernelspec": {
   "display_name": "Python 3",
   "language": "python",
   "name": "python3"
  },
  "language_info": {
   "codemirror_mode": {
    "name": "ipython",
    "version": 3
   },
   "file_extension": ".py",
   "mimetype": "text/x-python",
   "name": "python",
   "nbconvert_exporter": "python",
   "pygments_lexer": "ipython3",
   "version": "3.6.1"
  }
 },
 "nbformat": 4,
 "nbformat_minor": 4
}
