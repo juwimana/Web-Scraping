{
 "cells": [
  {
   "cell_type": "markdown",
   "metadata": {},
   "source": [
    "#### Import Packages"
   ]
  },
  {
   "cell_type": "code",
   "execution_count": 1,
   "metadata": {},
   "outputs": [],
   "source": [
    "import pandas as pd\n",
    "import numpy as np\n",
    "import matplotlib.pyplot as plt\n",
    "import seaborn as sns\n",
    "\n",
    "import requests\n",
    "from bs4 import BeautifulSoup as bs\n",
    "\n",
    "pd.options.mode.chained_assignment = None  # default='warn'"
   ]
  },
  {
   "cell_type": "markdown",
   "metadata": {},
   "source": [
    "### Data Wrangling"
   ]
  },
  {
   "cell_type": "code",
   "execution_count": 2,
   "metadata": {},
   "outputs": [],
   "source": [
    "#get html page\n",
    "marvel_url = \"https://www.imdb.com/list/ls000024621/?sort=release_date,desc&st_dt=&mode=detail&page=1\"\n",
    "dc_url = \"https://www.imdb.com/list/ls000024643/?sort=release_date,desc&st_dt=&mode=detail&page=1\"\n",
    "\n",
    "#marvel html\n",
    "response_marvel = requests.get(marvel_url)\n",
    "content_marvel = response_marvel.content\n",
    "html_marvel = bs(content_marvel,\"html.parser\")\n",
    "\n",
    "#marvel html\n",
    "response_dc = requests.get(dc_url)\n",
    "content_dc = response_dc.content\n",
    "html_dc = bs(content_dc,\"html.parser\")"
   ]
  },
  {
   "cell_type": "markdown",
   "metadata": {},
   "source": [
    "####  Marvel Cinematic Universe Web Scraping from imdb.com"
   ]
  },
  {
   "cell_type": "code",
   "execution_count": 3,
   "metadata": {},
   "outputs": [
    {
     "name": "stdout",
     "output_type": "stream",
     "text": [
      "83 83 83 83\n",
      "83 83 83 83\n",
      "83 83 83\n"
     ]
    }
   ],
   "source": [
    "#collection variables\n",
    "marvel_movies_titles_lists = []\n",
    "marvel_movies_titles = []\n",
    "marvel_movies_imdb_ratings = []\n",
    "marvel_movies_metascore_ratings = []\n",
    "marvel_movies_genre = []\n",
    "marvel_movies_p_lists = []\n",
    "marvel_movies_domestic_revenue=[]\n",
    "marvel_movies_summary =[]\n",
    "marvel_movies_director = []\n",
    "marvel_movies_stars =[]\n",
    "marvel_movies_running_time = []\n",
    "marvel_movies_age_restriction = []\n",
    "marvel_movies_release_year = []\n",
    "\n",
    "#get marvel data\n",
    "marvel_movies_html_lists = html_marvel.find_all(\"div\", class_=\"lister-item-content\")\n",
    "for marvel_movie in marvel_movies_html_lists:\n",
    "    #store movie title\n",
    "    try:\n",
    "        marvel_movies_titles.append(marvel_movie.h3.a.text)\n",
    "    except:\n",
    "        marvel_movies_titles.append(\"\")\n",
    "        \n",
    "    #store movie release date\n",
    "    try:\n",
    "        marvel_movies_release_year.append(marvel_movie.find(\"span\",class_=\"lister-item-year text-muted unbold\").text[-6:].strip())\n",
    "    except:\n",
    "        marvel_movies_release_year.append(\"\")    \n",
    "        \n",
    "    #store movie imdb rating\n",
    "    try:\n",
    "        marvel_movies_imdb_ratings.append(marvel_movie.find('span',class_=\"ipl-rating-star__rating\").text)\n",
    "    except:\n",
    "        marvel_movies_imdb_ratings.append(\"\")\n",
    "    \n",
    "    #store movie Metascore rating (if exists)\n",
    "    try:\n",
    "        marvel_movies_metascore_ratings.append(marvel_movie.find('div',class_=\"inline-block ratings-metascore\").text.replace(\"\\n\",\"\").split(\" \")[0].strip())\n",
    "    except:\n",
    "        marvel_movies_metascore_ratings.append(\"\")\n",
    "        \n",
    "    #store movie summary (if exists)\n",
    "    try:\n",
    "        marvel_movies_summary.append(marvel_movie.find('p',class_=\"\").text.replace('\\n',\"\"))\n",
    "    except:\n",
    "        marvel_movies_summary.append(\"\")\n",
    "    \n",
    "    #get domestic_revenue, director, stars, running_time, genre,age_restriction\n",
    "    marvel_movies_p_lists.append(marvel_movie.find_all(\"p\",class_=\"text-muted text-small\"))\n",
    "\n",
    "#seperate domestic_revenue, director, stars, running_time, genre,age_restriction into individual collections\n",
    "for i in range(0,len(marvel_movies_p_lists)):\n",
    "    #store movie domestic revenue\n",
    "    try:\n",
    "        marvel_movies_domestic_revenue.append(marvel_movies_p_lists[i][2].text.split(\"|\")[1].split(\":\")[1].strip())\n",
    "    except:\n",
    "        marvel_movies_domestic_revenue.append(\"\")\n",
    "    \n",
    "    #store movie director\n",
    "    try:\n",
    "        marvel_movies_director.append(marvel_movies_p_lists[i][1].text.split(\"|\")[0].split(\":\")[1].strip().replace(\"\\n\",\"\"))\n",
    "    except:\n",
    "        marvel_movies_director.append(\"\")\n",
    "        \n",
    "    #store movie stars\n",
    "    try:\n",
    "        marvel_movies_stars.append(marvel_movies_p_lists[i][1].text.split(\"|\")[1].split(\":\")[1].strip().replace('\\n',''))\n",
    "    except:\n",
    "        marvel_movies_stars.append(\"\")\n",
    "    \n",
    "    #store movie genre\n",
    "    try:\n",
    "        marvel_movies_genre.append(marvel_movies_p_lists[i][0].text.split(\"|\",2)[2].strip())\n",
    "    except:\n",
    "        marvel_movies_genre.append(\"\")\n",
    "        \n",
    "    #store movie running time\n",
    "    try:\n",
    "        marvel_movies_running_time.append(marvel_movies_p_lists[i][0].text.split(\"|\",2)[1].split(\" \")[0].strip())\n",
    "    except:\n",
    "        marvel_movies_running_time.append(\"\")\n",
    "        \n",
    "    #store movie age restriction\n",
    "    try:\n",
    "        marvel_movies_age_restriction.append(marvel_movies_p_lists[i][0].text.split(\"|\",2)[0].strip())\n",
    "    except:\n",
    "        marvel_movies_age_restriction.append(\"\")\n",
    "               \n",
    "print(len(marvel_movies_running_time),len(marvel_movies_titles),len(marvel_movies_genre),len(marvel_movies_age_restriction))\n",
    "print(len(marvel_movies_imdb_ratings), len(marvel_movies_metascore_ratings),len(marvel_movies_director),len(marvel_movies_stars))\n",
    "print(len(marvel_movies_domestic_revenue),len(marvel_movies_summary),len(marvel_movies_release_year))"
   ]
  },
  {
   "cell_type": "code",
   "execution_count": 4,
   "metadata": {},
   "outputs": [],
   "source": [
    "#create marvel movies dataframe\n",
    "dict_marvel = {\"Title\":marvel_movies_titles,\"Release Year\":marvel_movies_release_year,\"Genre\":marvel_movies_genre, \"IMDB Rating\":marvel_movies_imdb_ratings,\n",
    "               \"Metascore\":marvel_movies_metascore_ratings, \"Running Time (minutes)\":marvel_movies_running_time, \"Rated\":marvel_movies_age_restriction,\n",
    "              \"Domestic Revenue\":marvel_movies_domestic_revenue, \"Director\":marvel_movies_director, \"Stars\":marvel_movies_stars, \"Summary\":marvel_movies_summary, \"Universe\":\"Marvel\"}\n",
    "df_marvel = pd.DataFrame(data=dict_marvel)"
   ]
  },
  {
   "cell_type": "code",
   "execution_count": 5,
   "metadata": {},
   "outputs": [
    {
     "name": "stdout",
     "output_type": "stream",
     "text": [
      "['', '', '', '', '', '', '', '', 'Shameik Moore', 'Brie Larson', '', 'Benedict Cumberbatch, Elizabeth Olsen, Chiwetel Ejiofor, Benedict Wong', 'Taika Waititi, Natalie Portman, Christian Bale, Chris Hemsworth', 'Elizabeth Debicki, Karen Gillan, Chris Pratt, Zoe Saldana', 'Tom Holland, Zendaya, Benedict Cumberbatch, Marisa Tomei', 'Angelina Jolie, Gemma Chan, Richard Madden, Salma Hayek', 'Michelle Yeoh, Awkwafina, Simu Liu, Florian Munteanu', 'Tom Hardy, Michelle Williams, Naomie Harris, Woody Harrelson', 'Scarlett Johansson, Robert Downey Jr., Florence Pugh, Rachel Weisz', 'Michael Keaton, Jared Leto, Adria Arjona, Matt Smith', 'Maisie Williams, Anya Taylor-Joy, Charlie Heaton, Alice Braga', 'Tom Holland, Samuel L. Jackson, Jake Gyllenhaal, Marisa Tomei', 'James McAvoy, Michael Fassbender, Jennifer Lawrence, Nicholas Hoult', 'Robert Downey Jr., Chris Evans, Mark Ruffalo, Chris Hemsworth', 'Brie Larson, Samuel L. Jackson, Ben Mendelsohn, Jude Law', 'Shameik Moore, Jake Johnson, Hailee Steinfeld, Mahershala Ali', 'Tom Hardy, Michelle Williams, Riz Ahmed, Scott Haze', 'Paul Rudd, Evangeline Lilly, Michael Peña, Walton Goggins', 'Ryan Reynolds, Josh Brolin, Morena Baccarin, Julian Dennison', 'Robert Downey Jr., Chris Hemsworth, Mark Ruffalo, Chris Evans', \"Chadwick Boseman, Michael B. Jordan, Lupita Nyong'o, Danai Gurira\", 'Chris Hemsworth, Tom Hiddleston, Cate Blanchett, Mark Ruffalo', 'Tom Holland, Michael Keaton, Robert Downey Jr., Marisa Tomei', 'Chris Pratt, Zoe Saldana, Dave Bautista, Vin Diesel', 'Hugh Jackman, Patrick Stewart, Dafne Keen, Boyd Holbrook', 'Benedict Cumberbatch, Chiwetel Ejiofor, Rachel McAdams, Benedict Wong', 'James McAvoy, Michael Fassbender, Jennifer Lawrence, Nicholas Hoult', 'Chris Evans, Robert Downey Jr., Scarlett Johansson, Sebastian Stan', 'Ryan Reynolds, Morena Baccarin, T.J. Miller, Ed Skrein', 'Miles Teller, Kate Mara, Michael B. Jordan, Jamie Bell', 'Paul Rudd, Michael Douglas, Corey Stoll, Evangeline Lilly', 'Robert Downey Jr., Chris Evans, Mark Ruffalo, Chris Hemsworth', 'Ryan Potter, Scott Adsit, Jamie Chung, T.J. Miller', 'Chris Pratt, Vin Diesel, Bradley Cooper, Zoe Saldana', 'Patrick Stewart, Ian McKellen, Hugh Jackman, James McAvoy', 'Andrew Garfield, Emma Stone, Jamie Foxx, Paul Giamatti', 'Chris Evans, Samuel L. Jackson, Scarlett Johansson, Robert Redford', 'Chris Hemsworth, Natalie Portman, Tom Hiddleston, Stellan Skarsgård', 'Hugh Jackman, Will Yun Lee, Tao Okamoto, Rila Fukushima', 'Robert Downey Jr., Guy Pearce, Gwyneth Paltrow, Don Cheadle', 'Andrew Garfield, Emma Stone, Rhys Ifans, Irrfan Khan', 'Robert Downey Jr., Chris Evans, Scarlett Johansson, Jeremy Renner', 'Nicolas Cage, Ciarán Hinds, Idris Elba, Violante Placido', 'Chris Evans, Hugo Weaving, Samuel L. Jackson, Hayley Atwell', 'James McAvoy, Michael Fassbender, Jennifer Lawrence, Kevin Bacon', 'Chris Hemsworth, Anthony Hopkins, Natalie Portman, Tom Hiddleston', 'Robert Downey Jr., Mickey Rourke, Gwyneth Paltrow, Don Cheadle', 'Hugh Jackman, Liev Schreiber, Ryan Reynolds, Danny Huston', 'Ray Stevenson, Dominic West, Julie Benz, Doug Hutchison', 'Edward Norton, Liv Tyler, Tim Roth, William Hurt', 'Robert Downey Jr., Gwyneth Paltrow, Terrence Howard, Jeff Bridges', 'Ioan Gruffudd, Jessica Alba, Chris Evans, Michael Chiklis', 'Tobey Maguire, Kirsten Dunst, Topher Grace, Thomas Haden Church', 'Nicolas Cage, Eva Mendes, Sam Elliott, Matt Long', 'Patrick Stewart, Hugh Jackman, Halle Berry, Famke Janssen', 'Ioan Gruffudd, Michael Chiklis, Chris Evans, Jessica Alba', 'Jack Thompson, Matthew Le Nevez, Steve Bastoni, Rachael Taylor', 'Jennifer Garner, Goran Visnjic, Will Yun Lee, Kirsten Zien', 'Wesley Snipes, Kris Kristofferson, Parker Posey, Ryan Reynolds', 'Tobey Maguire, Kirsten Dunst, Alfred Molina, James Franco', 'Thomas Jane, John Travolta, Samantha Mathis, Laura Harring', 'Eric Bana, Jennifer Connelly, Sam Elliott, Josh Lucas', 'Patrick Stewart, Hugh Jackman, Halle Berry, Ian McKellen', 'Ben Affleck, Jennifer Garner, Colin Farrell, Michael Clarke Duncan', 'Tobey Maguire, Kirsten Dunst, Willem Dafoe, James Franco', 'Wesley Snipes, Kris Kristofferson, Ron Perlman, Leonor Varela', 'Patrick Stewart, Hugh Jackman, Ian McKellen, Famke Janssen', \"Wesley Snipes, Stephen Dorff, Kris Kristofferson, N'Bushe Wright\", 'Alex Hyde-White, Jay Underwood, Rebecca Staab, Michael Bailey Smith', 'Matt Salinger, Ronny Cox, Ned Beatty, Darren McGavin', 'Dolph Lundgren, Louis Gossett Jr., Jeroen Krabbé, Kim Miyori', 'Lea Thompson, Jeffrey Jones, Tim Robbins, Ed Gale', 'Evangeline Lilly, Jonathan Majors, Paul Rudd']\n"
     ]
    }
   ],
   "source": [
    "print(marvel_movies_stars)"
   ]
  },
  {
   "cell_type": "code",
   "execution_count": 6,
   "metadata": {},
   "outputs": [
    {
     "data": {
      "text/html": [
       "<div>\n",
       "<style scoped>\n",
       "    .dataframe tbody tr th:only-of-type {\n",
       "        vertical-align: middle;\n",
       "    }\n",
       "\n",
       "    .dataframe tbody tr th {\n",
       "        vertical-align: top;\n",
       "    }\n",
       "\n",
       "    .dataframe thead th {\n",
       "        text-align: right;\n",
       "    }\n",
       "</style>\n",
       "<table border=\"1\" class=\"dataframe\">\n",
       "  <thead>\n",
       "    <tr style=\"text-align: right;\">\n",
       "      <th></th>\n",
       "      <th>Title</th>\n",
       "      <th>Release Year</th>\n",
       "      <th>Genre</th>\n",
       "      <th>IMDB Rating</th>\n",
       "      <th>Metascore</th>\n",
       "      <th>Running Time (minutes)</th>\n",
       "      <th>Rated</th>\n",
       "      <th>Domestic Revenue</th>\n",
       "      <th>Director</th>\n",
       "      <th>Stars</th>\n",
       "      <th>Summary</th>\n",
       "      <th>Universe</th>\n",
       "    </tr>\n",
       "  </thead>\n",
       "  <tbody>\n",
       "  </tbody>\n",
       "</table>\n",
       "</div>"
      ],
      "text/plain": [
       "Empty DataFrame\n",
       "Columns: [Title, Release Year, Genre, IMDB Rating, Metascore, Running Time (minutes), Rated, Domestic Revenue, Director, Stars, Summary, Universe]\n",
       "Index: []"
      ]
     },
     "execution_count": 6,
     "metadata": {},
     "output_type": "execute_result"
    }
   ],
   "source": [
    "df_marvel[df_marvel[\"Release Year\"].isin([\"2013\"])]"
   ]
  },
  {
   "cell_type": "code",
   "execution_count": 7,
   "metadata": {},
   "outputs": [],
   "source": [
    "df_marvel.replace(\"\", np.nan, inplace=True)\n",
    "df_marvel = df_marvel.dropna(axis=0)"
   ]
  },
  {
   "cell_type": "markdown",
   "metadata": {},
   "source": [
    "####  DC Extended Universe Webscraping from imdb.com"
   ]
  },
  {
   "cell_type": "code",
   "execution_count": 8,
   "metadata": {},
   "outputs": [
    {
     "name": "stdout",
     "output_type": "stream",
     "text": [
      "63 63 63 63\n",
      "63 63 63 63\n",
      "63 63 63\n"
     ]
    }
   ],
   "source": [
    "#collection variables\n",
    "dc_movies_titles_lists = []\n",
    "dc_movies_titles = []\n",
    "dc_movies_imdb_ratings = []\n",
    "dc_movies_metascore_ratings = []\n",
    "dc_movies_genre = []\n",
    "dc_movies_p_lists = []\n",
    "dc_movies_domestic_revenue=[]\n",
    "dc_movies_summary =[]\n",
    "dc_movies_director = []\n",
    "dc_movies_stars =[]\n",
    "dc_movies_running_time = []\n",
    "dc_movies_age_restriction = []\n",
    "dc_movies_release_year = []\n",
    "\n",
    "#get dc data\n",
    "dc_movies_html_lists = html_dc.find_all(\"div\", class_=\"lister-item-content\")\n",
    "for dc_movie in dc_movies_html_lists:\n",
    "    #store movie title\n",
    "    try:\n",
    "        dc_movies_titles.append(dc_movie.h3.a.text)\n",
    "    except:\n",
    "        dc_movies_titles.append(\"\")\n",
    "    \n",
    "    #store movie release date\n",
    "    try:\n",
    "        dc_movies_release_year.append(dc_movie.find(\"span\",class_=\"lister-item-year text-muted unbold\").text[-6:].strip())\n",
    "    except:\n",
    "        dc_movies_release_year.append(\"\") \n",
    "    \n",
    "    #store movie imdb rating\n",
    "    try:\n",
    "        dc_movies_imdb_ratings.append(dc_movie.find('span',class_=\"ipl-rating-star__rating\").text)\n",
    "    except:\n",
    "        dc_movies_imdb_ratings.append(\"\")\n",
    "    \n",
    "    #store movie Metascore rating\n",
    "    try:\n",
    "        dc_movies_metascore_ratings.append(dc_movie.find('div',class_=\"inline-block ratings-metascore\").text.replace(\"\\n\",\"\").split(\" \")[0].strip())\n",
    "    except:\n",
    "        dc_movies_metascore_ratings.append(\"\")\n",
    "        \n",
    "    #store movie summary\n",
    "    try:\n",
    "        dc_movies_summary.append(dc_movie.find('p',class_=\"\").text.replace('\\n',\"\"))\n",
    "    except:\n",
    "        dc_movies_summary.append(\"\")\n",
    "    \n",
    "    #get domestic revenue, director, stars, running_time, genre,age_restriction\n",
    "    dc_movies_p_lists.append(dc_movie.find_all(\"p\",class_=\"text-muted text-small\"))\n",
    "\n",
    "#seperate domestic revenue, director, stars, running_time, genre,age_restriction into individual collections\n",
    "for i in range(0,len(dc_movies_p_lists)):\n",
    "    #store movie domestic revenue\n",
    "    try:\n",
    "        dc_movies_domestic_revenue.append(dc_movies_p_lists[i][2].text.split(\"|\")[1].split(\":\")[1].strip())\n",
    "    except:\n",
    "        dc_movies_domestic_revenue.append(\"\")\n",
    "    \n",
    "    #store movie director\n",
    "    try:\n",
    "        dc_movies_director.append(dc_movies_p_lists[i][1].text.split(\"|\")[0].split(\":\")[1].strip().replace(\"\\n\",\"\"))\n",
    "    except:\n",
    "        dc_movies_director.append(\"\")\n",
    "        \n",
    "    #store movie stars\n",
    "    try:\n",
    "        dc_movies_stars.append(dc_movies_p_lists[i][1].text.split(\"|\")[1].split(\":\")[1].strip().replace('\\n',''))\n",
    "    except:\n",
    "        dc_movies_stars.append(\"\")\n",
    "    \n",
    "    #store movie genre\n",
    "    try:\n",
    "        dc_movies_genre.append(dc_movies_p_lists[i][0].text.split(\"|\",2)[2].strip())\n",
    "    except:\n",
    "        dc_movies_genre.append(\"\")\n",
    "        \n",
    "    #store movie running time\n",
    "    try:\n",
    "        dc_movies_running_time.append(dc_movies_p_lists[i][0].text.split(\"|\",2)[1].split(\" \")[0].strip())\n",
    "    except:\n",
    "        dc_movies_running_time.append(\"\")\n",
    "        \n",
    "    #store movie age restriction\n",
    "    try:\n",
    "        dc_movies_age_restriction.append(dc_movies_p_lists[i][0].text.split(\"|\",2)[0].strip())\n",
    "    except:\n",
    "        dc_movies_age_restriction.append(\"\")\n",
    "               \n",
    "print(len(dc_movies_running_time),len(dc_movies_titles),len(dc_movies_genre),len(dc_movies_age_restriction))\n",
    "print(len(dc_movies_imdb_ratings), len(dc_movies_metascore_ratings),len(dc_movies_director),len(dc_movies_stars))\n",
    "print(len(dc_movies_domestic_revenue),len(dc_movies_summary),len(dc_movies_release_year))"
   ]
  },
  {
   "cell_type": "code",
   "execution_count": 9,
   "metadata": {},
   "outputs": [],
   "source": [
    "#create dc movies dataframe\n",
    "dict_dc = {\"Title\":dc_movies_titles,\"Release Year\":dc_movies_release_year,\"Genre\":dc_movies_genre, \"IMDB Rating\":dc_movies_imdb_ratings,\n",
    "               \"Metascore\":dc_movies_metascore_ratings, \"Running Time (minutes)\":dc_movies_running_time, \"Rated\":dc_movies_age_restriction,\n",
    "              \"Domestic Revenue\":dc_movies_domestic_revenue, \"Director\":dc_movies_director, \"Stars\":dc_movies_stars, \"Summary\":dc_movies_summary, \"Universe\":\"DC\"}\n",
    "df_dc = pd.DataFrame(data=dict_dc)"
   ]
  },
  {
   "cell_type": "code",
   "execution_count": 10,
   "metadata": {},
   "outputs": [],
   "source": [
    "df_dc.replace(\"\", np.nan, inplace=True)\n",
    "df_dc = df_dc.dropna(axis = 0)"
   ]
  },
  {
   "cell_type": "code",
   "execution_count": 11,
   "metadata": {},
   "outputs": [
    {
     "data": {
      "text/html": [
       "<div>\n",
       "<style scoped>\n",
       "    .dataframe tbody tr th:only-of-type {\n",
       "        vertical-align: middle;\n",
       "    }\n",
       "\n",
       "    .dataframe tbody tr th {\n",
       "        vertical-align: top;\n",
       "    }\n",
       "\n",
       "    .dataframe thead th {\n",
       "        text-align: right;\n",
       "    }\n",
       "</style>\n",
       "<table border=\"1\" class=\"dataframe\">\n",
       "  <thead>\n",
       "    <tr style=\"text-align: right;\">\n",
       "      <th></th>\n",
       "      <th>Title</th>\n",
       "      <th>Release Year</th>\n",
       "      <th>Genre</th>\n",
       "      <th>IMDB Rating</th>\n",
       "      <th>Metascore</th>\n",
       "      <th>Running Time (minutes)</th>\n",
       "      <th>Rated</th>\n",
       "      <th>Domestic Revenue</th>\n",
       "      <th>Director</th>\n",
       "      <th>Stars</th>\n",
       "      <th>Summary</th>\n",
       "      <th>Universe</th>\n",
       "    </tr>\n",
       "  </thead>\n",
       "  <tbody>\n",
       "    <tr>\n",
       "      <th>24</th>\n",
       "      <td>Birds of Prey: And the Fantabulous Emancipatio...</td>\n",
       "      <td>(2020)</td>\n",
       "      <td>Action, Adventure, Crime</td>\n",
       "      <td>6.1</td>\n",
       "      <td>60</td>\n",
       "      <td>109</td>\n",
       "      <td>14A</td>\n",
       "      <td>$84.16M</td>\n",
       "      <td>Cathy Yan</td>\n",
       "      <td>Margot Robbie, Rosie Perez, Mary Elizabeth Win...</td>\n",
       "      <td>After splitting with the Joker, Harley Qui...</td>\n",
       "      <td>DC</td>\n",
       "    </tr>\n",
       "    <tr>\n",
       "      <th>25</th>\n",
       "      <td>Joker</td>\n",
       "      <td>(2019)</td>\n",
       "      <td>Crime, Drama, Thriller</td>\n",
       "      <td>8.5</td>\n",
       "      <td>59</td>\n",
       "      <td>122</td>\n",
       "      <td>14A</td>\n",
       "      <td>$335.45M</td>\n",
       "      <td>Todd Phillips</td>\n",
       "      <td>Joaquin Phoenix, Robert De Niro, Zazie Beetz, ...</td>\n",
       "      <td>In Gotham City, mentally troubled comedian...</td>\n",
       "      <td>DC</td>\n",
       "    </tr>\n",
       "    <tr>\n",
       "      <th>26</th>\n",
       "      <td>Shazam!</td>\n",
       "      <td>(2019)</td>\n",
       "      <td>Action, Adventure, Comedy</td>\n",
       "      <td>7.1</td>\n",
       "      <td>71</td>\n",
       "      <td>132</td>\n",
       "      <td>PG</td>\n",
       "      <td>$140.37M</td>\n",
       "      <td>David F. Sandberg</td>\n",
       "      <td>Zachary Levi, Mark Strong, Asher Angel, Jack D...</td>\n",
       "      <td>A newly fostered young boy in search of hi...</td>\n",
       "      <td>DC</td>\n",
       "    </tr>\n",
       "    <tr>\n",
       "      <th>27</th>\n",
       "      <td>Aquaman</td>\n",
       "      <td>(2018)</td>\n",
       "      <td>Action, Adventure, Fantasy</td>\n",
       "      <td>6.9</td>\n",
       "      <td>55</td>\n",
       "      <td>143</td>\n",
       "      <td>PG</td>\n",
       "      <td>$335.06M</td>\n",
       "      <td>James Wan</td>\n",
       "      <td>Jason Momoa, Amber Heard, Willem Dafoe, Patric...</td>\n",
       "      <td>Arthur Curry, the human-born heir to the u...</td>\n",
       "      <td>DC</td>\n",
       "    </tr>\n",
       "    <tr>\n",
       "      <th>28</th>\n",
       "      <td>Teen Titans Go! To the Movies</td>\n",
       "      <td>(2018)</td>\n",
       "      <td>Animation, Action, Adventure</td>\n",
       "      <td>6.8</td>\n",
       "      <td>69</td>\n",
       "      <td>84</td>\n",
       "      <td>PG</td>\n",
       "      <td>$29.56M</td>\n",
       "      <td>Aaron Horvath, Peter Rida Michail</td>\n",
       "      <td>Greg Cipes, Scott Menville, Khary Payton, Tara...</td>\n",
       "      <td>A villain's maniacal plan for world domina...</td>\n",
       "      <td>DC</td>\n",
       "    </tr>\n",
       "  </tbody>\n",
       "</table>\n",
       "</div>"
      ],
      "text/plain": [
       "                                                Title Release Year  \\\n",
       "24  Birds of Prey: And the Fantabulous Emancipatio...       (2020)   \n",
       "25                                              Joker       (2019)   \n",
       "26                                            Shazam!       (2019)   \n",
       "27                                            Aquaman       (2018)   \n",
       "28                      Teen Titans Go! To the Movies       (2018)   \n",
       "\n",
       "                           Genre IMDB Rating Metascore Running Time (minutes)  \\\n",
       "24      Action, Adventure, Crime         6.1        60                    109   \n",
       "25        Crime, Drama, Thriller         8.5        59                    122   \n",
       "26     Action, Adventure, Comedy         7.1        71                    132   \n",
       "27    Action, Adventure, Fantasy         6.9        55                    143   \n",
       "28  Animation, Action, Adventure         6.8        69                     84   \n",
       "\n",
       "   Rated Domestic Revenue                           Director  \\\n",
       "24   14A          $84.16M                          Cathy Yan   \n",
       "25   14A         $335.45M                      Todd Phillips   \n",
       "26    PG         $140.37M                  David F. Sandberg   \n",
       "27    PG         $335.06M                          James Wan   \n",
       "28    PG          $29.56M  Aaron Horvath, Peter Rida Michail   \n",
       "\n",
       "                                                Stars  \\\n",
       "24  Margot Robbie, Rosie Perez, Mary Elizabeth Win...   \n",
       "25  Joaquin Phoenix, Robert De Niro, Zazie Beetz, ...   \n",
       "26  Zachary Levi, Mark Strong, Asher Angel, Jack D...   \n",
       "27  Jason Momoa, Amber Heard, Willem Dafoe, Patric...   \n",
       "28  Greg Cipes, Scott Menville, Khary Payton, Tara...   \n",
       "\n",
       "                                              Summary Universe  \n",
       "24      After splitting with the Joker, Harley Qui...       DC  \n",
       "25      In Gotham City, mentally troubled comedian...       DC  \n",
       "26      A newly fostered young boy in search of hi...       DC  \n",
       "27      Arthur Curry, the human-born heir to the u...       DC  \n",
       "28      A villain's maniacal plan for world domina...       DC  "
      ]
     },
     "execution_count": 11,
     "metadata": {},
     "output_type": "execute_result"
    }
   ],
   "source": [
    "df_dc.head()"
   ]
  },
  {
   "cell_type": "code",
   "execution_count": 12,
   "metadata": {},
   "outputs": [],
   "source": [
    "#combine marvel and dc movie dataframes\n",
    "df = pd.concat([df_marvel,df_dc])"
   ]
  },
  {
   "cell_type": "code",
   "execution_count": 13,
   "metadata": {},
   "outputs": [
    {
     "data": {
      "text/plain": [
       "Title                     0\n",
       "Release Year              0\n",
       "Genre                     0\n",
       "IMDB Rating               0\n",
       "Metascore                 0\n",
       "Running Time (minutes)    0\n",
       "Rated                     0\n",
       "Domestic Revenue          0\n",
       "Director                  0\n",
       "Stars                     0\n",
       "Summary                   0\n",
       "Universe                  0\n",
       "dtype: int64"
      ]
     },
     "execution_count": 13,
     "metadata": {},
     "output_type": "execute_result"
    }
   ],
   "source": [
    "#check for missing values\n",
    "df.isnull().sum()"
   ]
  },
  {
   "cell_type": "markdown",
   "metadata": {},
   "source": [
    "#### Formating DataFrame"
   ]
  },
  {
   "cell_type": "code",
   "execution_count": 14,
   "metadata": {},
   "outputs": [],
   "source": [
    "#change type of IMDB Rating, Metascore, Running Time\n",
    "df[\"IMDB Rating\"] = df[\"IMDB Rating\"].astype(\"float\")\n",
    "df[\"Metascore\"] = df[\"Metascore\"].astype(\"float\")\n",
    "df[\"Running Time (minutes)\"] = df[\"Running Time (minutes)\"].astype(\"int\")"
   ]
  },
  {
   "cell_type": "code",
   "execution_count": 15,
   "metadata": {},
   "outputs": [],
   "source": [
    "#convert release year to date format\n",
    "df[\"Release Year\"] = pd.to_datetime(df[\"Release Year\"], format=\"(%Y)\")\n",
    "df[\"Release Year\"] =df[\"Release Year\"].dt.year"
   ]
  },
  {
   "cell_type": "code",
   "execution_count": 16,
   "metadata": {
    "scrolled": false
   },
   "outputs": [
    {
     "data": {
      "text/html": [
       "<div>\n",
       "<style scoped>\n",
       "    .dataframe tbody tr th:only-of-type {\n",
       "        vertical-align: middle;\n",
       "    }\n",
       "\n",
       "    .dataframe tbody tr th {\n",
       "        vertical-align: top;\n",
       "    }\n",
       "\n",
       "    .dataframe thead th {\n",
       "        text-align: right;\n",
       "    }\n",
       "</style>\n",
       "<table border=\"1\" class=\"dataframe\">\n",
       "  <thead>\n",
       "    <tr style=\"text-align: right;\">\n",
       "      <th></th>\n",
       "      <th>Title</th>\n",
       "      <th>Release Year</th>\n",
       "      <th>Genre</th>\n",
       "      <th>IMDB Rating</th>\n",
       "      <th>Metascore</th>\n",
       "      <th>Running Time (minutes)</th>\n",
       "      <th>Rated</th>\n",
       "      <th>Domestic Revenue</th>\n",
       "      <th>Director</th>\n",
       "      <th>Stars</th>\n",
       "      <th>Summary</th>\n",
       "      <th>Universe</th>\n",
       "    </tr>\n",
       "  </thead>\n",
       "  <tbody>\n",
       "    <tr>\n",
       "      <th>21</th>\n",
       "      <td>Spider-Man: Far from Home</td>\n",
       "      <td>2019</td>\n",
       "      <td>Action, Adventure, Sci-Fi</td>\n",
       "      <td>7.50</td>\n",
       "      <td>69.00</td>\n",
       "      <td>129</td>\n",
       "      <td>PG</td>\n",
       "      <td>390,530,000.00</td>\n",
       "      <td>Jon Watts</td>\n",
       "      <td>Tom Holland, Samuel L. Jackson, Jake Gyllenhaa...</td>\n",
       "      <td>Following the events of Avengers: Endgame ...</td>\n",
       "      <td>Marvel</td>\n",
       "    </tr>\n",
       "    <tr>\n",
       "      <th>22</th>\n",
       "      <td>Dark Phoenix</td>\n",
       "      <td>2019</td>\n",
       "      <td>Action, Adventure, Sci-Fi</td>\n",
       "      <td>5.80</td>\n",
       "      <td>43.00</td>\n",
       "      <td>113</td>\n",
       "      <td>PG</td>\n",
       "      <td>65,850,000.00</td>\n",
       "      <td>Simon Kinberg</td>\n",
       "      <td>James McAvoy, Michael Fassbender, Jennifer Law...</td>\n",
       "      <td>Jean Grey begins to develop incredible pow...</td>\n",
       "      <td>Marvel</td>\n",
       "    </tr>\n",
       "    <tr>\n",
       "      <th>23</th>\n",
       "      <td>Avengers: Endgame</td>\n",
       "      <td>2019</td>\n",
       "      <td>Action, Adventure, Drama</td>\n",
       "      <td>8.40</td>\n",
       "      <td>78.00</td>\n",
       "      <td>181</td>\n",
       "      <td>PG</td>\n",
       "      <td>858,370,000.00</td>\n",
       "      <td>Anthony Russo, Joe Russo</td>\n",
       "      <td>Robert Downey Jr., Chris Evans, Mark Ruffalo, ...</td>\n",
       "      <td>After the devastating events of Avengers: ...</td>\n",
       "      <td>Marvel</td>\n",
       "    </tr>\n",
       "    <tr>\n",
       "      <th>24</th>\n",
       "      <td>Captain Marvel</td>\n",
       "      <td>2019</td>\n",
       "      <td>Action, Adventure, Sci-Fi</td>\n",
       "      <td>6.90</td>\n",
       "      <td>64.00</td>\n",
       "      <td>123</td>\n",
       "      <td>PG</td>\n",
       "      <td>426,830,000.00</td>\n",
       "      <td>Anna Boden, Ryan Fleck</td>\n",
       "      <td>Brie Larson, Samuel L. Jackson, Ben Mendelsohn...</td>\n",
       "      <td>Carol Danvers becomes one of the universe'...</td>\n",
       "      <td>Marvel</td>\n",
       "    </tr>\n",
       "    <tr>\n",
       "      <th>25</th>\n",
       "      <td>Spider-Man: Into the Spider-Verse</td>\n",
       "      <td>2018</td>\n",
       "      <td>Animation, Action, Adventure</td>\n",
       "      <td>8.40</td>\n",
       "      <td>87.00</td>\n",
       "      <td>117</td>\n",
       "      <td>PG</td>\n",
       "      <td>190,240,000.00</td>\n",
       "      <td>Bob Persichetti, Peter Ramsey, Rodney Rothman</td>\n",
       "      <td>Shameik Moore, Jake Johnson, Hailee Steinfeld,...</td>\n",
       "      <td>Teen Miles Morales becomes the Spider-Man ...</td>\n",
       "      <td>Marvel</td>\n",
       "    </tr>\n",
       "  </tbody>\n",
       "</table>\n",
       "</div>"
      ],
      "text/plain": [
       "                                Title  Release Year  \\\n",
       "21          Spider-Man: Far from Home          2019   \n",
       "22                       Dark Phoenix          2019   \n",
       "23                  Avengers: Endgame          2019   \n",
       "24                     Captain Marvel          2019   \n",
       "25  Spider-Man: Into the Spider-Verse          2018   \n",
       "\n",
       "                           Genre  IMDB Rating  Metascore  \\\n",
       "21     Action, Adventure, Sci-Fi         7.50      69.00   \n",
       "22     Action, Adventure, Sci-Fi         5.80      43.00   \n",
       "23      Action, Adventure, Drama         8.40      78.00   \n",
       "24     Action, Adventure, Sci-Fi         6.90      64.00   \n",
       "25  Animation, Action, Adventure         8.40      87.00   \n",
       "\n",
       "    Running Time (minutes) Rated  Domestic Revenue  \\\n",
       "21                     129    PG    390,530,000.00   \n",
       "22                     113    PG     65,850,000.00   \n",
       "23                     181    PG    858,370,000.00   \n",
       "24                     123    PG    426,830,000.00   \n",
       "25                     117    PG    190,240,000.00   \n",
       "\n",
       "                                         Director  \\\n",
       "21                                      Jon Watts   \n",
       "22                                  Simon Kinberg   \n",
       "23                       Anthony Russo, Joe Russo   \n",
       "24                         Anna Boden, Ryan Fleck   \n",
       "25  Bob Persichetti, Peter Ramsey, Rodney Rothman   \n",
       "\n",
       "                                                Stars  \\\n",
       "21  Tom Holland, Samuel L. Jackson, Jake Gyllenhaa...   \n",
       "22  James McAvoy, Michael Fassbender, Jennifer Law...   \n",
       "23  Robert Downey Jr., Chris Evans, Mark Ruffalo, ...   \n",
       "24  Brie Larson, Samuel L. Jackson, Ben Mendelsohn...   \n",
       "25  Shameik Moore, Jake Johnson, Hailee Steinfeld,...   \n",
       "\n",
       "                                              Summary Universe  \n",
       "21      Following the events of Avengers: Endgame ...   Marvel  \n",
       "22      Jean Grey begins to develop incredible pow...   Marvel  \n",
       "23      After the devastating events of Avengers: ...   Marvel  \n",
       "24      Carol Danvers becomes one of the universe'...   Marvel  \n",
       "25      Teen Miles Morales becomes the Spider-Man ...   Marvel  "
      ]
     },
     "execution_count": 16,
     "metadata": {},
     "output_type": "execute_result"
    }
   ],
   "source": [
    "#convert Domestic Revenue to Money\n",
    "df[\"Domestic Revenue\"] = df[\"Domestic Revenue\"].str.replace(\"$\",\"\")\n",
    "df[\"Domestic Revenue\"] = df[\"Domestic Revenue\"].str.replace(\"M\",\"\")\n",
    "df[\"Domestic Revenue\"] = df[\"Domestic Revenue\"].str.replace(\",\",\"\")\n",
    "\n",
    "#suppress pandas float scientific notation\n",
    "pd.options.display.float_format = '{:,.2f}'.format\n",
    "\n",
    "#convert to float\n",
    "df[\"Domestic Revenue\"] = df[\"Domestic Revenue\"].astype(\"float\")*1000000;\n",
    "df.head()"
   ]
  },
  {
   "cell_type": "markdown",
   "metadata": {},
   "source": [
    "#### Average Ratings and Revenue  by Universe"
   ]
  },
  {
   "cell_type": "code",
   "execution_count": 17,
   "metadata": {},
   "outputs": [
    {
     "data": {
      "text/html": [
       "<div>\n",
       "<style scoped>\n",
       "    .dataframe tbody tr th:only-of-type {\n",
       "        vertical-align: middle;\n",
       "    }\n",
       "\n",
       "    .dataframe tbody tr th {\n",
       "        vertical-align: top;\n",
       "    }\n",
       "\n",
       "    .dataframe thead th {\n",
       "        text-align: right;\n",
       "    }\n",
       "</style>\n",
       "<table border=\"1\" class=\"dataframe\">\n",
       "  <thead>\n",
       "    <tr style=\"text-align: right;\">\n",
       "      <th></th>\n",
       "      <th>IMDB Rating</th>\n",
       "      <th>Metascore</th>\n",
       "      <th>Running Time (minutes)</th>\n",
       "      <th>Domestic Revenue</th>\n",
       "    </tr>\n",
       "    <tr>\n",
       "      <th>Universe</th>\n",
       "      <th></th>\n",
       "      <th></th>\n",
       "      <th></th>\n",
       "      <th></th>\n",
       "    </tr>\n",
       "  </thead>\n",
       "  <tbody>\n",
       "    <tr>\n",
       "      <th>DC</th>\n",
       "      <td>6.34</td>\n",
       "      <td>55.55</td>\n",
       "      <td>126.10</td>\n",
       "      <td>182,436,551.72</td>\n",
       "    </tr>\n",
       "    <tr>\n",
       "      <th>Marvel</th>\n",
       "      <td>6.90</td>\n",
       "      <td>59.30</td>\n",
       "      <td>122.46</td>\n",
       "      <td>249,416,315.79</td>\n",
       "    </tr>\n",
       "  </tbody>\n",
       "</table>\n",
       "</div>"
      ],
      "text/plain": [
       "          IMDB Rating  Metascore  Running Time (minutes)  Domestic Revenue\n",
       "Universe                                                                  \n",
       "DC               6.34      55.55                  126.10    182,436,551.72\n",
       "Marvel           6.90      59.30                  122.46    249,416,315.79"
      ]
     },
     "execution_count": 17,
     "metadata": {},
     "output_type": "execute_result"
    }
   ],
   "source": [
    "df.groupby([\"Universe\"])[[\"IMDB Rating\", \"Metascore\",\"Running Time (minutes)\",\"Domestic Revenue\"]].agg(np.mean)"
   ]
  },
  {
   "cell_type": "markdown",
   "metadata": {},
   "source": [
    "#### Number of movies released after 2000 by each Universe"
   ]
  },
  {
   "cell_type": "code",
   "execution_count": 18,
   "metadata": {},
   "outputs": [
    {
     "data": {
      "text/html": [
       "<div>\n",
       "<style scoped>\n",
       "    .dataframe tbody tr th:only-of-type {\n",
       "        vertical-align: middle;\n",
       "    }\n",
       "\n",
       "    .dataframe tbody tr th {\n",
       "        vertical-align: top;\n",
       "    }\n",
       "\n",
       "    .dataframe thead th {\n",
       "        text-align: right;\n",
       "    }\n",
       "</style>\n",
       "<table border=\"1\" class=\"dataframe\">\n",
       "  <thead>\n",
       "    <tr style=\"text-align: right;\">\n",
       "      <th>Release Year</th>\n",
       "      <th>False</th>\n",
       "      <th>True</th>\n",
       "      <th>Total</th>\n",
       "    </tr>\n",
       "    <tr>\n",
       "      <th>Universe</th>\n",
       "      <th></th>\n",
       "      <th></th>\n",
       "      <th></th>\n",
       "    </tr>\n",
       "  </thead>\n",
       "  <tbody>\n",
       "    <tr>\n",
       "      <th>DC</th>\n",
       "      <td>10</td>\n",
       "      <td>19</td>\n",
       "      <td>29</td>\n",
       "    </tr>\n",
       "    <tr>\n",
       "      <th>Marvel</th>\n",
       "      <td>3</td>\n",
       "      <td>54</td>\n",
       "      <td>57</td>\n",
       "    </tr>\n",
       "    <tr>\n",
       "      <th>Total</th>\n",
       "      <td>13</td>\n",
       "      <td>73</td>\n",
       "      <td>86</td>\n",
       "    </tr>\n",
       "  </tbody>\n",
       "</table>\n",
       "</div>"
      ],
      "text/plain": [
       "Release Year  False  True  Total\n",
       "Universe                        \n",
       "DC               10    19     29\n",
       "Marvel            3    54     57\n",
       "Total            13    73     86"
      ]
     },
     "execution_count": 18,
     "metadata": {},
     "output_type": "execute_result"
    }
   ],
   "source": [
    "pd.crosstab(df[\"Universe\"],df[\"Release Year\"]>2000,margins=True,margins_name=\"Total\")"
   ]
  },
  {
   "cell_type": "markdown",
   "metadata": {},
   "source": [
    "#### Highest Domestic Revenue Movie by Universe"
   ]
  },
  {
   "cell_type": "code",
   "execution_count": 19,
   "metadata": {},
   "outputs": [
    {
     "data": {
      "text/plain": [
       "Universe\n",
       "DC       534,860,000.00\n",
       "Marvel   858,370,000.00\n",
       "Name: Domestic Revenue, dtype: float64"
      ]
     },
     "execution_count": 19,
     "metadata": {},
     "output_type": "execute_result"
    }
   ],
   "source": [
    "df[\"Domestic Revenue\"].groupby(df[\"Universe\"]).agg(np.max)"
   ]
  },
  {
   "cell_type": "code",
   "execution_count": 20,
   "metadata": {},
   "outputs": [
    {
     "data": {
      "text/html": [
       "<div>\n",
       "<style scoped>\n",
       "    .dataframe tbody tr th:only-of-type {\n",
       "        vertical-align: middle;\n",
       "    }\n",
       "\n",
       "    .dataframe tbody tr th {\n",
       "        vertical-align: top;\n",
       "    }\n",
       "\n",
       "    .dataframe thead th {\n",
       "        text-align: right;\n",
       "    }\n",
       "</style>\n",
       "<table border=\"1\" class=\"dataframe\">\n",
       "  <thead>\n",
       "    <tr style=\"text-align: right;\">\n",
       "      <th></th>\n",
       "      <th>Title</th>\n",
       "      <th>Release Year</th>\n",
       "      <th>IMDB Rating</th>\n",
       "      <th>Metascore</th>\n",
       "      <th>Domestic Revenue</th>\n",
       "      <th>Universe</th>\n",
       "    </tr>\n",
       "  </thead>\n",
       "  <tbody>\n",
       "    <tr>\n",
       "      <th>23</th>\n",
       "      <td>Avengers: Endgame</td>\n",
       "      <td>2019</td>\n",
       "      <td>8.40</td>\n",
       "      <td>78.00</td>\n",
       "      <td>858,370,000.00</td>\n",
       "      <td>Marvel</td>\n",
       "    </tr>\n",
       "  </tbody>\n",
       "</table>\n",
       "</div>"
      ],
      "text/plain": [
       "                Title  Release Year  IMDB Rating  Metascore  Domestic Revenue  \\\n",
       "23  Avengers: Endgame          2019         8.40      78.00    858,370,000.00   \n",
       "\n",
       "   Universe  \n",
       "23   Marvel  "
      ]
     },
     "execution_count": 20,
     "metadata": {},
     "output_type": "execute_result"
    }
   ],
   "source": [
    "df[df[\"Domestic Revenue\"]==max(df[\"Domestic Revenue\"])][[\"Title\",\"Release Year\",\"IMDB Rating\",\"Metascore\",\"Domestic Revenue\",\"Universe\"]]"
   ]
  },
  {
   "cell_type": "markdown",
   "metadata": {},
   "source": [
    "#### Most Appearances by Actor "
   ]
  },
  {
   "cell_type": "code",
   "execution_count": 21,
   "metadata": {},
   "outputs": [
    {
     "data": {
      "image/png": "[encoded data removed]",
      "text/plain": [
       "<Figure size 1008x432 with 1 Axes>"
      ]
     },
     "metadata": {
      "needs_background": "light"
     },
     "output_type": "display_data"
    }
   ],
   "source": [
    "#Most appearance in Marvel movies in a star role\n",
    "marvel_df_stars = pd.concat([df_marvel[\"Stars\"].str.split(\",\",expand=True)[0],df_marvel[\"Stars\"].str.split(\",\",expand=True)[1],df_marvel[\"Stars\"].str.split(\",\",expand=True)[2]],axis=0)\n",
    "marvel_df_stars = marvel_df_stars.str.strip()\n",
    "\n",
    "#Plot\n",
    "plt.rcParams[\"figure.figsize\"]=(14,6)\n",
    "ax = marvel_df_stars.value_counts(sort=True).nlargest(10).plot(kind='barh',color=\"#CB4335\" )\n",
    "plt.gca().invert_yaxis()\n",
    "plt.ylabel(\"Marvel Actor\")\n",
    "plt.xlabel(\"Number of Appearances in the Marvel Universe\")\n",
    "plt.title(\"Top Ten Actors in the Marvel Cinematic Universe by Number of Appearances\")\n",
    "for i in ax.patches:\n",
    "    # get_width pulls left or right; get_y pushes up or down\n",
    "    ax.text(i.get_width()+.1, i.get_y()+.31, \\\n",
    "            str(round((i.get_width()), 10)), fontsize=10.5, color=\"#34495E\")"
   ]
  },
  {
   "cell_type": "code",
   "execution_count": 22,
   "metadata": {},
   "outputs": [
    {
     "data": {
      "image/png": "[encoded data removed]",
      "text/plain": [
       "<Figure size 1008x432 with 1 Axes>"
      ]
     },
     "metadata": {
      "needs_background": "light"
     },
     "output_type": "display_data"
    }
   ],
   "source": [
    "#Most appearance in Marvel movies in a star role\n",
    "dc_df_stars = pd.concat([df_dc[\"Stars\"].str.split(\",\",expand=True)[0],df_dc[\"Stars\"].str.split(\",\",expand=True)[1],df_dc[\"Stars\"].str.split(\",\",expand=True)[2]],axis=0)\n",
    "dc_df_stars = dc_df_stars.str.strip()\n",
    "\n",
    "#Plot\n",
    "plt.rcParams[\"figure.figsize\"]=(14,6)\n",
    "ax = dc_df_stars.value_counts(sort=True).nlargest(10).plot(kind='barh',color=\"#17202A\" )\n",
    "plt.gca().invert_yaxis()\n",
    "plt.ylabel(\"DC Actor\")\n",
    "plt.xlabel(\"Number of Appearances in the DC Extended Universe\")\n",
    "plt.title(\"Top Ten Actors in the DC Extended Universe by Number of Appearances\")\n",
    "for i in ax.patches:\n",
    "    # get_width pulls left or right; get_y pushes up or down\n",
    "    ax.text(i.get_width()+.1, i.get_y()+.31, \\\n",
    "            str(round((i.get_width()), 10)), fontsize=10.5, color=\"#34495E\")"
   ]
  },
  {
   "cell_type": "markdown",
   "metadata": {},
   "source": [
    "#### Most Domestic Revenue by Universe"
   ]
  },
  {
   "cell_type": "code",
   "execution_count": null,
   "metadata": {},
   "outputs": [],
   "source": []
  }
 ],
 "metadata": {
  "kernelspec": {
   "display_name": "Python 3",
   "language": "python",
   "name": "python3"
  },
  "language_info": {
   "codemirror_mode": {
    "name": "ipython",
    "version": 3
   },
   "file_extension": ".py",
   "mimetype": "text/x-python",
   "name": "python",
   "nbconvert_exporter": "python",
   "pygments_lexer": "ipython3",
   "version": "3.8.3"
  }
 },
 "nbformat": 4,
 "nbformat_minor": 4
}
